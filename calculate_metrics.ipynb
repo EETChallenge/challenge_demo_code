{
 "cells": [
  {
   "cell_type": "code",
   "execution_count": null,
   "metadata": {},
   "outputs": [],
   "source": [
    "import torch\n",
    "import pandas as pd\n",
    "import numpy as np\n",
    "import torch\n",
    "import os"
   ]
  },
  {
   "cell_type": "code",
   "execution_count": null,
   "metadata": {},
   "outputs": [],
   "source": [
    "def p_acc(target, prediction, pixel_tolerances=[1,3,5,10]):\n",
    "    \"\"\"\n",
    "    Calculate the accuracy of prediction\n",
    "    :param target: (N, seq_len, 2) tensor, seq_len could be 1\n",
    "    :param prediction: (N, seq_len, 2) tensor\n",
    "    :return: a dictionary of p-total correct and batch size of this batch\n",
    "    \"\"\"\n",
    "    # flatten the N and seqlen dimension of target and prediction\n",
    "    target = target.reshape(-1, 2)\n",
    "    prediction = prediction.reshape(-1, 2)\n",
    "\n",
    "    dis = target - prediction\n",
    "    dist = torch.norm(dis, dim=-1)\n",
    "\n",
    "    total_correct = {}\n",
    "    for p_tolerance in pixel_tolerances:\n",
    "        total_correct[f'p{p_tolerance}'] = torch.sum(dist < p_tolerance)\n",
    "\n",
    "    bs_times_seqlen = target.shape[0]\n",
    "    return total_correct, bs_times_seqlen"
   ]
  },
  {
   "cell_type": "code",
   "execution_count": null,
   "metadata": {},
   "outputs": [],
   "source": [
    "def px_euclidean_dist(target, prediction):\n",
    "    \"\"\"\n",
    "    Calculate the total pixel euclidean distance between target and prediction\n",
    "    in a batch over the sequence length\n",
    "    :param target: (N, seqlen, 2) tensor\n",
    "    :param prediction: (N, seqlen, 2) tensor\n",
    "    :return: total pixel euclidean distance and sample numbers\n",
    "    \"\"\"\n",
    "    # flatten the N and seqlen dimension of target and prediction\n",
    "    target = target.reshape(-1, 2)[:, :2]\n",
    "    prediction = prediction.reshape(-1, 2)\n",
    "\n",
    "    dis = target - prediction\n",
    "    dist = torch.norm(dis, dim=-1)\n",
    "    total_px_euclidean_dist = torch.sum(dist)\n",
    "    sample_numbers = target.shape[0]\n",
    "    return total_px_euclidean_dist, sample_numbers"
   ]
  },
  {
   "cell_type": "code",
   "execution_count": null,
   "metadata": {},
   "outputs": [],
   "source": [
    "def px_manhaten_dist(target, prediction):\n",
    "    \"\"\"\n",
    "    Calculate the total pixel manhaten distance between target and prediction\n",
    "    in a batch over the sequence length\n",
    "    :param target: (N, seqlen, 2) tensor\n",
    "    :param prediction: (N, seqlen, 2) tensor\n",
    "    :return: total pixel manhaten distance and sample numbers\n",
    "    \"\"\"\n",
    "    # flatten the N and seqlen dimension of target and prediction\n",
    "    target = target.reshape(-1, 2)[:, :2]\n",
    "    prediction = prediction.reshape(-1, 2)\n",
    "    dis = target - prediction\n",
    "    dist = torch.sum(torch.abs(dis), dim=-1)\n",
    "    total_px_manhaten_dist = torch.sum(dist)\n",
    "    sample_numbers = target.shape[0]\n",
    "    return total_px_manhaten_dist, sample_numbers"
   ]
  },
  {
   "cell_type": "code",
   "execution_count": null,
   "metadata": {},
   "outputs": [],
   "source": [
    "def calculate_metrics(gt_df, predictions_df):\n",
    "    # Convert the dataframes into PyTorch tensors\n",
    "    gt_tensor = torch.tensor(gt_df[['x', 'y']].values, dtype=torch.float32)\n",
    "    predictions_tensor = torch.tensor(predictions_df[['x', 'y']].values, dtype=torch.float32)\n",
    "\n",
    "    # Calculate pixel tolerated accuracy\n",
    "    total_correct, sample_size = p_acc(gt_tensor, predictions_tensor, pixel_tolerances=[1,3,5,10,15])\n",
    "    # enumerate the tolerances and print the accuracy\n",
    "    print(\"p_acc:\", end=\" \")\n",
    "    for p_tolerance, correct in total_correct.items():\n",
    "        print(f'{p_tolerance}={correct.item() / sample_size:.2%}', end=\", \")\n",
    "    print()\n",
    "    # calculate the px_euclidean_dist\n",
    "    total_px_euclidean_dist, sample_size = px_euclidean_dist(gt_tensor, predictions_tensor)\n",
    "    print(f'px_euclidean_dist: {total_px_euclidean_dist.item() / sample_size:.2f}')\n",
    "\n",
    "    # calculate the px_manhaten_dist\n",
    "    total_px_manhaten_dist, sample_size = px_manhaten_dist(gt_tensor, predictions_tensor)\n",
    "    print(f'px_manhaten_dist: {total_px_manhaten_dist.item() / sample_size:.2f}')\n"
   ]
  },
  {
   "cell_type": "code",
   "execution_count": null,
   "metadata": {},
   "outputs": [],
   "source": [
    "gt_df = pd.read_csv('./gt_orig_merged.csv')\n",
    "\n",
    "# iterate over csv files in a directory\n",
    "folder = './your_submissions/'\n",
    "files = os.listdir(folder)\n",
    "# remove the files that contains null\n",
    "files = [file for file in files if 'null' not in file]\n",
    "# sort files by the Priv_ score\n",
    "sort_files = sorted(files, key=lambda x: float(x.split('_')[-1].split('.')[0]), reverse=True)\n",
    "for filename in sort_files:\n",
    "    if filename.endswith(\".csv\"):\n",
    "        print(filename)\n",
    "        predictions_df = pd.read_csv(os.path.join(folder, filename))\n",
    "\n",
    "        calculate_metrics(gt_df, predictions_df)\n",
    "    else:\n",
    "        continue"
   ]
  }
 ],
 "metadata": {
  "kernelspec": {
   "display_name": "event_eyetracking",
   "language": "python",
   "name": "python3"
  },
  "language_info": {
   "codemirror_mode": {
    "name": "ipython",
    "version": 3
   },
   "file_extension": ".py",
   "mimetype": "text/x-python",
   "name": "python",
   "nbconvert_exporter": "python",
   "pygments_lexer": "ipython3",
   "version": "3.8.18"
  }
 },
 "nbformat": 4,
 "nbformat_minor": 2
}
